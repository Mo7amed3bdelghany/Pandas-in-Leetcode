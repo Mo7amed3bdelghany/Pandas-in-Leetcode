{
  "nbformat": 4,
  "nbformat_minor": 0,
  "metadata": {
    "colab": {
      "provenance": []
    },
    "kernelspec": {
      "name": "python3",
      "display_name": "Python 3"
    },
    "language_info": {
      "name": "python"
    }
  },
  "cells": [
    {
      "cell_type": "code",
      "execution_count": 1,
      "metadata": {
        "id": "_3NRbBYmZtzp"
      },
      "outputs": [],
      "source": [
        "import pandas as pd\n",
        "\n",
        "def big_countries(world: pd.DataFrame) -> pd.DataFrame:\n",
        "   return  world[(world['area']>=3000000) | (world['population']>=25000000)][['name','area','population']]"
      ]
    },
    {
      "cell_type": "code",
      "source": [],
      "metadata": {
        "id": "Nv2JKY_xhuwZ"
      },
      "execution_count": null,
      "outputs": []
    }
  ]
}