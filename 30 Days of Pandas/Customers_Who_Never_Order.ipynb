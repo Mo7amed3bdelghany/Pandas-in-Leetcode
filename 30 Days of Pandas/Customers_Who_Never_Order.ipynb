{
  "nbformat": 4,
  "nbformat_minor": 0,
  "metadata": {
    "colab": {
      "provenance": []
    },
    "kernelspec": {
      "name": "python3",
      "display_name": "Python 3"
    },
    "language_info": {
      "name": "python"
    }
  },
  "cells": [
    {
      "cell_type": "code",
      "source": [
        "import pandas as pd\n",
        "\n",
        "def find_customers(customers: pd.DataFrame, orders: pd.DataFrame) -> pd.DataFrame:\n",
        "\n",
        "    df3 = customers.merge(orders,left_on='id',right_on='customerId',how='left')\n",
        "    df3 = df3[df3['customerId'].isna()][['name']]\n",
        "    df3.columns = ['Customers']\n",
        "    return df3\n",
        "\n",
        ""
      ],
      "metadata": {
        "id": "qekfjbSJyZVA"
      },
      "execution_count": 30,
      "outputs": []
    },
    {
      "cell_type": "code",
      "source": [
        "import pandas as pd\n",
        "\n",
        "def find_customers(customers: pd.DataFrame, orders: pd.DataFrame) -> pd.DataFrame:\n",
        "    df=  customers[~customers['id'].isin(orders['customerId'])][['name']]\n",
        "    df.columns = ['Customers']\n",
        "    return df\n",
        ""
      ],
      "metadata": {
        "id": "8goWqhAOzRUs"
      },
      "execution_count": null,
      "outputs": []
    }
  ]
}