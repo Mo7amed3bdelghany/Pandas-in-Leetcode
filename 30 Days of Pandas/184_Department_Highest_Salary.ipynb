{
  "nbformat": 4,
  "nbformat_minor": 0,
  "metadata": {
    "colab": {
      "provenance": []
    },
    "kernelspec": {
      "name": "python3",
      "display_name": "Python 3"
    },
    "language_info": {
      "name": "python"
    }
  },
  "cells": [
    {
      "cell_type": "code",
      "execution_count": null,
      "metadata": {
        "id": "0eew1JsXolm0"
      },
      "outputs": [],
      "source": [
        "import pandas as pd\n",
        "\n",
        "def department_highest_salary(employee: pd.DataFrame, department: pd.DataFrame) -> pd.DataFrame:\n",
        "    df_merged = pd.merge(employee, department, left_on = 'departmentId', right_on = 'id')\n",
        "    df = df_merged.groupby('departmentId').apply(lambda x: x[x['salary'] == x['salary'].max()])\n",
        "    df = df[['name_y','name_x','salary']]\n",
        "    df.columns=['Department','Employee','Salary']\n",
        "    return df"
      ]
    }
  ]
}