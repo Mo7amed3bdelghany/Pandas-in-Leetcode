{
  "nbformat": 4,
  "nbformat_minor": 0,
  "metadata": {
    "colab": {
      "provenance": []
    },
    "kernelspec": {
      "name": "python3",
      "display_name": "Python 3"
    },
    "language_info": {
      "name": "python"
    }
  },
  "cells": [
    {
      "cell_type": "code",
      "execution_count": 2,
      "metadata": {
        "id": "_3NRbBYmZtzp"
      },
      "outputs": [],
      "source": [
        "import pandas as pd\n",
        "\n",
        "def find_products(products: pd.DataFrame) -> pd.DataFrame:\n",
        "    return products[(products['low_fats']=='Y') & (products['recyclable']=='Y')][['product_id']]"
      ]
    },
    {
      "cell_type": "markdown",
      "source": [
        "# OR"
      ],
      "metadata": {
        "id": "dxWvWwCCmcJ3"
      }
    },
    {
      "cell_type": "code",
      "source": [
        "import pandas as pd\n",
        "\n",
        "def find_products(products: pd.DataFrame) -> pd.DataFrame:\n",
        "    return pd.DataFrame(products[(products['low_fats']=='Y') & (products['recyclable']=='Y')]['product_id'])"
      ],
      "metadata": {
        "id": "TyiMp92amWp6"
      },
      "execution_count": null,
      "outputs": []
    }
  ]
}