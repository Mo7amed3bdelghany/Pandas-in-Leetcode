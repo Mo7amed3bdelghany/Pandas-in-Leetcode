{
  "nbformat": 4,
  "nbformat_minor": 0,
  "metadata": {
    "colab": {
      "provenance": []
    },
    "kernelspec": {
      "name": "python3",
      "display_name": "Python 3"
    },
    "language_info": {
      "name": "python"
    }
  },
  "cells": [
    {
      "cell_type": "code",
      "execution_count": null,
      "metadata": {
        "id": "SXQcZQMfKBkG"
      },
      "outputs": [],
      "source": [
        "import pandas as pd\n",
        "\n",
        "def calculate_special_bonus(employees: pd.DataFrame) -> pd.DataFrame:\n",
        "    employees['bonus'] = 0\n",
        "    employees.loc[(employees['employee_id']%2!=0) & (~employees['name'].str.startswith('M')), 'bonus'] = employees['salary']\n",
        "    return employees[['employee_id','bonus']].sort_values(by='employee_id')"
      ]
    }
  ]
}