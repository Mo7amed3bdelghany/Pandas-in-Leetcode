{
  "nbformat": 4,
  "nbformat_minor": 0,
  "metadata": {
    "colab": {
      "provenance": []
    },
    "kernelspec": {
      "name": "python3",
      "display_name": "Python 3"
    },
    "language_info": {
      "name": "python"
    }
  },
  "cells": [
    {
      "cell_type": "code",
      "execution_count": null,
      "metadata": {
        "id": "SXQcZQMfKBkG"
      },
      "outputs": [],
      "source": [
        "import pandas as pd\n",
        "\n",
        "def article_views(views: pd.DataFrame) -> pd.DataFrame:\n",
        "   ser = views[views['author_id'] == views['viewer_id']]['author_id'].sort_values().unique()\n",
        "   return pd.DataFrame(ser,columns=['id'])"
      ]
    }
  ]
}