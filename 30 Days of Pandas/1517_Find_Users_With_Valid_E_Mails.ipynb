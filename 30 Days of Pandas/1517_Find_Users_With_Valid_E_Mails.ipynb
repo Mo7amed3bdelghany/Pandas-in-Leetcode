{
  "nbformat": 4,
  "nbformat_minor": 0,
  "metadata": {
    "colab": {
      "provenance": []
    },
    "kernelspec": {
      "name": "python3",
      "display_name": "Python 3"
    },
    "language_info": {
      "name": "python"
    }
  },
  "cells": [
    {
      "cell_type": "code",
      "execution_count": null,
      "metadata": {
        "id": "SXQcZQMfKBkG"
      },
      "outputs": [],
      "source": [
        "import pandas as pd\n",
        "\n",
        "def valid_emails(users: pd.DataFrame) -> pd.DataFrame:\n",
        "    pattern = \"^[a-zA-Z][a-zA-Z0-9_.-]*@leetcode\\\\.com$\"\n",
        "    return users[users['mail'].str.match(pattern)]\n",
        ""
      ]
    }
  ]
}