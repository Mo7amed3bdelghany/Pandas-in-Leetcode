{
  "nbformat": 4,
  "nbformat_minor": 0,
  "metadata": {
    "colab": {
      "provenance": []
    },
    "kernelspec": {
      "name": "python3",
      "display_name": "Python 3"
    },
    "language_info": {
      "name": "python"
    }
  },
  "cells": [
    {
      "cell_type": "code",
      "execution_count": null,
      "metadata": {
        "id": "QYZ5_v3Wjmic"
      },
      "outputs": [],
      "source": [
        "import pandas as pd\n",
        "\n",
        "def second_highest_salary(employee: pd.DataFrame) -> pd.DataFrame:\n",
        "    salary = employee['salary'].sort_values(ascending=False).drop_duplicates()\n",
        "    x = salary.iloc[1] if 2<=len(salary) else None\n",
        "    return pd.DataFrame({'SecondHighestSalary': [x]})"
      ]
    }
  ]
}