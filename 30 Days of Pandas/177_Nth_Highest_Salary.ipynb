{
  "nbformat": 4,
  "nbformat_minor": 0,
  "metadata": {
    "colab": {
      "provenance": []
    },
    "kernelspec": {
      "name": "python3",
      "display_name": "Python 3"
    },
    "language_info": {
      "name": "python"
    }
  },
  "cells": [
    {
      "cell_type": "code",
      "execution_count": null,
      "metadata": {
        "id": "eo2SHHaGL1w3"
      },
      "outputs": [],
      "source": [
        "import pandas as pd\n",
        "\n",
        "def nth_highest_salary(employee: pd.DataFrame, N: int) -> pd.DataFrame:\n",
        "    salary = employee['salary'].sort_values(ascending=False).drop_duplicates()\n",
        "    x = salary.iloc[N-1] if 0<N<=len(salary) else None\n",
        "    return pd.DataFrame({f'getNthHighestSalary({N})': [x]})"
      ]
    }
  ]
}