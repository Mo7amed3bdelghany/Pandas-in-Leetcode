{
  "nbformat": 4,
  "nbformat_minor": 0,
  "metadata": {
    "colab": {
      "provenance": []
    },
    "kernelspec": {
      "name": "python3",
      "display_name": "Python 3"
    },
    "language_info": {
      "name": "python"
    }
  },
  "cells": [
    {
      "cell_type": "code",
      "execution_count": null,
      "metadata": {
        "id": "qMMo6BjJv6it"
      },
      "outputs": [],
      "source": [
        "import pandas as pd\n",
        "\n",
        "def delete_duplicate_emails(person: pd.DataFrame) -> None:\n",
        "    person.sort_values(by='id', inplace=True)\n",
        "    person.drop_duplicates(subset='email', inplace =True)\n",
        ""
      ]
    }
  ]
}