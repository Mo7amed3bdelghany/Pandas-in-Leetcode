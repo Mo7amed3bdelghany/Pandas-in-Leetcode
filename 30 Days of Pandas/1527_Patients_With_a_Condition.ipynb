{
  "nbformat": 4,
  "nbformat_minor": 0,
  "metadata": {
    "colab": {
      "provenance": []
    },
    "kernelspec": {
      "name": "python3",
      "display_name": "Python 3"
    },
    "language_info": {
      "name": "python"
    }
  },
  "cells": [
    {
      "cell_type": "code",
      "execution_count": null,
      "metadata": {
        "id": "Zr4WNuLDh2ft"
      },
      "outputs": [],
      "source": [
        "import pandas as pd\n",
        "\n",
        "def find_patients(patients: pd.DataFrame) -> pd.DataFrame:\n",
        "    return patients[patients['conditions'].str.contains('(^| )DIAB1')]\n",
        ""
      ]
    }
  ]
}