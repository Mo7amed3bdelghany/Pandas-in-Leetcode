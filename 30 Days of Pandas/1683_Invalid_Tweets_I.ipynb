{
  "nbformat": 4,
  "nbformat_minor": 0,
  "metadata": {
    "colab": {
      "provenance": []
    },
    "kernelspec": {
      "name": "python3",
      "display_name": "Python 3"
    },
    "language_info": {
      "name": "python"
    }
  },
  "cells": [
    {
      "cell_type": "code",
      "execution_count": null,
      "metadata": {
        "id": "SXQcZQMfKBkG"
      },
      "outputs": [],
      "source": [
        "import pandas as pd\n",
        "\n",
        "def invalid_tweets(tweets: pd.DataFrame) -> pd.DataFrame:\n",
        "    return pd.DataFrame(tweets[tweets['content'].str.len()>15]['tweet_id'])\n",
        ""
      ]
    }
  ]
}